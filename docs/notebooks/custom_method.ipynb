{
 "cells": [
  {
   "cell_type": "markdown",
   "id": "823de055",
   "metadata": {},
   "source": [
    "# Implementing a custom LLM-EC algorithm\n",
    "\n",
    "In this tutorial we implement a simple optimizer and compare it with **LLaMEA** and **EoH**."
   ]
  },
  {
   "cell_type": "code",
   "execution_count": null,
   "id": "7bd2c0b0",
   "metadata": {},
   "outputs": [],
   "source": [
    "from iohblade.method import Method\n",
    "from iohblade import Experiment, Ollama_LLM\n",
    "from iohblade.methods import LLaMEA, EoH\n",
    "from iohblade.problems import BBOB\n",
    "from iohblade.loggers import ExperimentLogger"
   ]
  },
  {
   "cell_type": "code",
   "execution_count": null,
   "id": "ecadf423",
   "metadata": {},
   "outputs": [],
   "source": [
    "class MyLLMOptimizer(Method):\n",
    "    def __init__(self, llm, budget=20, name='MyLLM'):\n",
    "        super().__init__(llm, budget, name)\n",
    "\n",
    "    def __call__(self, problem):\n",
    "        msg = [{'role':'user','content': problem.get_prompt()}]\n",
    "        best = problem(self.llm.sample_solution(msg))\n",
    "        for _ in range(self.budget - 1):\n",
    "            msg = [\n",
    "                {'role':'user','content': problem.get_prompt()},\n",
    "                {'role':'assistant','content': best.code},\n",
    "                {'role':'user','content': 'Improve the algorithm.'}\n",
    "            ]\n",
    "            cand = problem(self.llm.sample_solution(msg))\n",
    "            if cand.fitness > best.fitness:\n",
    "                best = cand\n",
    "        return best\n",
    "\n",
    "    def to_dict(self):\n",
    "        return {'method_name': self.name, 'budget': self.budget}"
   ]
  },
  {
   "cell_type": "code",
   "execution_count": null,
   "id": "19cba1e9",
   "metadata": {},
   "outputs": [],
   "source": [
    "llm = Ollama_LLM('qwen2.5-coder:14b')\n",
    "budget = 30\n",
    "methods = [\n",
    "    LLaMEA(llm, budget=budget, name='LLaMEA'),\n",
    "    EoH(llm, budget=budget, name='EoH'),\n",
    "    MyLLMOptimizer(llm, budget=budget, name='MyLLM'),\n",
    "]\n",
    "problems = [BBOB(functions=[1], instances=[1], dims=[5], budget_factor=200, name='BBOB')]\n",
    "logger = ExperimentLogger('results/custom_method')\n",
    "experiment = Experiment(methods=methods, problems=problems, llm=llm, runs=3, show_stdout=True, exp_logger=logger)"
   ]
  },
  {
   "cell_type": "code",
   "execution_count": null,
   "id": "68e8cd9d",
   "metadata": {},
   "outputs": [],
   "source": [
    "experiment()"
   ]
  }
 ],
 "metadata": {
  "kernelspec": {
   "display_name": "Python 3",
   "language": "python",
   "name": "python3"
  },
  "language_info": {
   "name": "python",
   "pygments_lexer": "ipython3"
  }
 },
 "nbformat": 4,
 "nbformat_minor": 5
}
