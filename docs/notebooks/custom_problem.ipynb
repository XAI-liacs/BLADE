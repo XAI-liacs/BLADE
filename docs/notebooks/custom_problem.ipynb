{
 "cells": [
  {
   "cell_type": "markdown",
   "id": "93eb66df",
   "metadata": {},
   "source": [
    "# Adding a custom problem\n",
    "\n",
    "This tutorial demonstrates how to extend BLADE with your own optimization problem and evaluate it using **LLaMEA**."
   ]
  },
  {
   "cell_type": "code",
   "execution_count": null,
   "id": "b1a62c98",
   "metadata": {},
   "outputs": [],
   "source": [
    "from iohblade.problem import Problem\n",
    "from iohblade import Experiment, Ollama_LLM\n",
    "from iohblade.methods import LLaMEA\n",
    "from iohblade.loggers import ExperimentLogger\n",
    "import numpy as np"
   ]
  },
  {
   "cell_type": "code",
   "execution_count": null,
   "id": "41ea9029",
   "metadata": {},
   "outputs": [],
   "source": [
    "class CustomSphere(Problem):\n",
    "    def __init__(self, dims=5, budget_factor=1000, name='Sphere'):\n",
    "        super().__init__(name=name, dims=[dims], budget_factor=budget_factor)\n",
    "\n",
    "    def evaluate(self, x):\n",
    "        return {'fitness': float(np.sum(np.array(x)**2))}"
   ]
  },
  {
   "cell_type": "code",
   "execution_count": null,
   "id": "ea70d778",
   "metadata": {},
   "outputs": [],
   "source": [
    "llm = Ollama_LLM('qwen2.5-coder:14b')\n",
    "method = LLaMEA(llm, budget=30)\n",
    "problems = [CustomSphere()]\n",
    "logger = ExperimentLogger('results/custom_problem')\n",
    "experiment = Experiment(methods=[method], problems=problems, llm=llm, runs=3, exp_logger=logger, show_stdout=True)"
   ]
  },
  {
   "cell_type": "code",
   "execution_count": null,
   "id": "3f74903b",
   "metadata": {},
   "outputs": [],
   "source": [
    "experiment()"
   ]
  }
 ],
 "metadata": {
  "kernelspec": {
   "display_name": "Python 3",
   "language": "python",
   "name": "python3"
  },
  "language_info": {
   "name": "python",
   "pygments_lexer": "ipython3"
  }
 },
 "nbformat": 4,
 "nbformat_minor": 5
}
