{
 "cells": [
  {
   "cell_type": "markdown",
   "id": "9448580a",
   "metadata": {},
   "source": [
    "# Comparing LLaMEA with RandomSearch\n",
    "\n",
    "This tutorial shows how to create a small experiment and compare **LLaMEA** with **RandomSearch**."
   ]
  },
  {
   "cell_type": "markdown",
   "id": "f4023570",
   "metadata": {},
   "source": [
    "## Setup\n",
    "Make sure an LLM is available. Here we use an `Ollama_LLM` instance."
   ]
  },
  {
   "cell_type": "code",
   "execution_count": null,
   "id": "42291208",
   "metadata": {},
   "outputs": [],
   "source": [
    "from iohblade import Experiment, Ollama_LLM\n",
    "from iohblade.methods import LLaMEA, RandomSearch\n",
    "from iohblade.problems import BBOB\n",
    "from iohblade.loggers import ExperimentLogger"
   ]
  },
  {
   "cell_type": "code",
   "execution_count": null,
   "id": "1bd2740e",
   "metadata": {},
   "outputs": [],
   "source": [
    "llm = Ollama_LLM('qwen2.5-coder:14b')\n",
    "budget = 30\n",
    "RS = RandomSearch(llm, budget=budget)\n",
    "LLA = LLaMEA(llm, budget=budget, name='LLaMEA')\n",
    "methods = [RS, LLA]"
   ]
  },
  {
   "cell_type": "code",
   "execution_count": null,
   "id": "79da92a3",
   "metadata": {},
   "outputs": [],
   "source": [
    "problems = [BBOB(functions=[1], instances=[1], dims=[5], budget_factor=200, name='BBOB-f1')]\n",
    "logger = ExperimentLogger('results/simple_exp')\n",
    "experiment = Experiment(methods=methods, problems=problems, llm=llm, runs=5, show_stdout=True, exp_logger=logger)"
   ]
  },
  {
   "cell_type": "code",
   "execution_count": null,
   "id": "d6dcf1b7",
   "metadata": {},
   "outputs": [],
   "source": [
    "experiment()  # run the experiment"
   ]
  },
  {
   "cell_type": "markdown",
   "id": "63f85d22",
   "metadata": {},
   "source": [
    "After running the experiment, use the built in plotting functions to inspect the results."
   ]
  },
  {
   "cell_type": "code",
   "execution_count": null,
   "id": "b3e23f72",
   "metadata": {},
   "outputs": [],
   "source": [
    "from iohblade import plot_convergence\n",
    "plot_convergence(logger)"
   ]
  }
 ],
 "metadata": {
  "kernelspec": {
   "display_name": "Python 3",
   "language": "python",
   "name": "python3"
  },
  "language_info": {
   "name": "python",
   "pygments_lexer": "ipython3"
  }
 },
 "nbformat": 4,
 "nbformat_minor": 5
}
